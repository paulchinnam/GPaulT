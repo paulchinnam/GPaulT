{
  "nbformat": 4,
  "nbformat_minor": 0,
  "metadata": {
    "colab": {
      "provenance": [],
      "authorship_tag": "ABX9TyMAnRaEiXc02Kik+Tdv59xE",
      "include_colab_link": true
    },
    "kernelspec": {
      "name": "python3",
      "display_name": "Python 3"
    },
    "language_info": {
      "name": "python"
    }
  },
  "cells": [
    {
      "cell_type": "markdown",
      "metadata": {
        "id": "view-in-github",
        "colab_type": "text"
      },
      "source": [
        "<a href=\"https://colab.research.google.com/github/paulchinnam/GPaulT/blob/main/GPaulT.ipynb\" target=\"_parent\"><img src=\"https://colab.research.google.com/assets/colab-badge.svg\" alt=\"Open In Colab\"/></a>"
      ]
    },
    {
      "cell_type": "code",
      "execution_count": 1,
      "metadata": {
        "colab": {
          "base_uri": "https://localhost:8080/"
        },
        "id": "MXgHaasJVThI",
        "outputId": "076046a6-b3ca-4ef5-d78f-de0dc7e384ca"
      },
      "outputs": [
        {
          "output_type": "stream",
          "name": "stdout",
          "text": [
            "--2024-03-19 15:39:50--  https://raw.githubusercontent.com/paulchinnam/GPaulT/main/input.txt\n",
            "Resolving raw.githubusercontent.com (raw.githubusercontent.com)... 185.199.111.133, 185.199.110.133, 185.199.109.133, ...\n",
            "Connecting to raw.githubusercontent.com (raw.githubusercontent.com)|185.199.111.133|:443... connected.\n",
            "HTTP request sent, awaiting response... 200 OK\n",
            "Length: 95297 (93K) [text/plain]\n",
            "Saving to: ‘input.txt’\n",
            "\n",
            "input.txt           100%[===================>]  93.06K  --.-KB/s    in 0.02s   \n",
            "\n",
            "2024-03-19 15:39:51 (5.57 MB/s) - ‘input.txt’ saved [95297/95297]\n",
            "\n"
          ]
        }
      ],
      "source": [
        "# Avengers Infinity War Script for training\n",
        "\n",
        "!wget https://raw.githubusercontent.com/paulchinnam/GPaulT/main/input.txt"
      ]
    },
    {
      "cell_type": "code",
      "source": [
        "# Read script in\n",
        "with open('input.txt', 'r', encoding='utf-8') as f:\n",
        "  text = f.read()"
      ],
      "metadata": {
        "id": "KPzVb4PaXET3"
      },
      "execution_count": 2,
      "outputs": []
    },
    {
      "cell_type": "code",
      "source": [
        "# Print length of dataset\n",
        "\n",
        "print(\"Length of dataset in characters: \", len(text))"
      ],
      "metadata": {
        "colab": {
          "base_uri": "https://localhost:8080/"
        },
        "id": "eYyXvxdoXbRT",
        "outputId": "c3f62906-30ea-4083-8967-edce7370a099"
      },
      "execution_count": 3,
      "outputs": [
        {
          "output_type": "stream",
          "name": "stdout",
          "text": [
            "Length of dataset in characters:  92772\n"
          ]
        }
      ]
    },
    {
      "cell_type": "code",
      "source": [
        "# Print first 1000 characters\n",
        "print(text[:1000])"
      ],
      "metadata": {
        "colab": {
          "base_uri": "https://localhost:8080/"
        },
        "id": "IHwM2WNrXypw",
        "outputId": "f2a3346d-a0c4-423f-9e52-a56a84aa439e"
      },
      "execution_count": 4,
      "outputs": [
        {
          "output_type": "stream",
          "name": "stdout",
          "text": [
            "[radio transmission sound]\n",
            "\n",
            "[Asgardian PA]: This is the Asgardian refugee vessel Statesman! We are under assault, I repeat, we are under assault – The engines are dead, life support failing! Requesting aid from any vessel within range... We are 22 jump points out of Asgard. Our crew is made up of Asgardian families, we have very few soldiers here! This is not a war craft, I repeat, this is not a war craft!\n",
            "\n",
            "[Inside the ship, Ebony Maw walks among the bodies of dead Asgardians. He steps over them as he speaks with no mind, as if they were scattered pieces of dirty clothing on a bedroom floor.]\n",
            "\n",
            "Ebony Maw: Hear me, and rejoice. You have had the privilege of being saved by the Great Titan. You may think this is suffering. No... It is salvation. Universal scales tip toward balance because of your sacrifice. Smile... For even in death, you have become Children of Thanos.\n",
            "\n",
            "[Loki is seen with the Black Order. He watches Thanos.]\n",
            "\n",
            "Thanos: [Looking out the large window.] I know what it's like t\n"
          ]
        }
      ]
    }
  ]
}